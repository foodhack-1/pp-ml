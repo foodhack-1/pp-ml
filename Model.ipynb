{
 "cells": [
  {
   "cell_type": "code",
   "execution_count": 3,
   "metadata": {
    "ExecuteTime": {
     "end_time": "2018-03-03T22:58:52.166684Z",
     "start_time": "2018-03-03T22:58:52.163506Z"
    }
   },
   "outputs": [],
   "source": [
    "import pandas as pd\n",
    "import re"
   ]
  },
  {
   "cell_type": "code",
   "execution_count": 4,
   "metadata": {
    "ExecuteTime": {
     "end_time": "2018-03-03T22:58:52.361413Z",
     "start_time": "2018-03-03T22:58:52.345762Z"
    }
   },
   "outputs": [],
   "source": [
    "df = pd.read_csv(\"food_coded.csv\")"
   ]
  },
  {
   "cell_type": "code",
   "execution_count": 5,
   "metadata": {
    "ExecuteTime": {
     "end_time": "2018-03-03T22:58:52.690638Z",
     "start_time": "2018-03-03T22:58:52.647040Z"
    }
   },
   "outputs": [
    {
     "data": {
      "text/html": [
       "<div>\n",
       "<style scoped>\n",
       "    .dataframe tbody tr th:only-of-type {\n",
       "        vertical-align: middle;\n",
       "    }\n",
       "\n",
       "    .dataframe tbody tr th {\n",
       "        vertical-align: top;\n",
       "    }\n",
       "\n",
       "    .dataframe thead th {\n",
       "        text-align: right;\n",
       "    }\n",
       "</style>\n",
       "<table border=\"1\" class=\"dataframe\">\n",
       "  <thead>\n",
       "    <tr style=\"text-align: right;\">\n",
       "      <th></th>\n",
       "      <th>GPA</th>\n",
       "      <th>Gender</th>\n",
       "      <th>breakfast</th>\n",
       "      <th>calories_chicken</th>\n",
       "      <th>calories_day</th>\n",
       "      <th>calories_scone</th>\n",
       "      <th>coffee</th>\n",
       "      <th>comfort_food</th>\n",
       "      <th>comfort_food_reasons</th>\n",
       "      <th>comfort_food_reasons_coded</th>\n",
       "      <th>...</th>\n",
       "      <th>soup</th>\n",
       "      <th>sports</th>\n",
       "      <th>thai_food</th>\n",
       "      <th>tortilla_calories</th>\n",
       "      <th>turkey_calories</th>\n",
       "      <th>type_sports</th>\n",
       "      <th>veggies_day</th>\n",
       "      <th>vitamins</th>\n",
       "      <th>waffle_calories</th>\n",
       "      <th>weight</th>\n",
       "    </tr>\n",
       "  </thead>\n",
       "  <tbody>\n",
       "    <tr>\n",
       "      <th>0</th>\n",
       "      <td>2.4</td>\n",
       "      <td>2</td>\n",
       "      <td>1</td>\n",
       "      <td>430</td>\n",
       "      <td>NaN</td>\n",
       "      <td>315.0</td>\n",
       "      <td>1</td>\n",
       "      <td>none</td>\n",
       "      <td>we dont have comfort</td>\n",
       "      <td>9.0</td>\n",
       "      <td>...</td>\n",
       "      <td>1.0</td>\n",
       "      <td>1.0</td>\n",
       "      <td>1</td>\n",
       "      <td>1165.0</td>\n",
       "      <td>345</td>\n",
       "      <td>car racing</td>\n",
       "      <td>5</td>\n",
       "      <td>1</td>\n",
       "      <td>1315</td>\n",
       "      <td>187</td>\n",
       "    </tr>\n",
       "    <tr>\n",
       "      <th>1</th>\n",
       "      <td>3.654</td>\n",
       "      <td>1</td>\n",
       "      <td>1</td>\n",
       "      <td>610</td>\n",
       "      <td>3.0</td>\n",
       "      <td>420.0</td>\n",
       "      <td>2</td>\n",
       "      <td>chocolate, chips, ice cream</td>\n",
       "      <td>Stress, bored, anger</td>\n",
       "      <td>1.0</td>\n",
       "      <td>...</td>\n",
       "      <td>1.0</td>\n",
       "      <td>1.0</td>\n",
       "      <td>2</td>\n",
       "      <td>725.0</td>\n",
       "      <td>690</td>\n",
       "      <td>Basketball</td>\n",
       "      <td>4</td>\n",
       "      <td>2</td>\n",
       "      <td>900</td>\n",
       "      <td>155</td>\n",
       "    </tr>\n",
       "    <tr>\n",
       "      <th>2</th>\n",
       "      <td>3.3</td>\n",
       "      <td>1</td>\n",
       "      <td>1</td>\n",
       "      <td>720</td>\n",
       "      <td>4.0</td>\n",
       "      <td>420.0</td>\n",
       "      <td>2</td>\n",
       "      <td>frozen yogurt, pizza, fast food</td>\n",
       "      <td>stress, sadness</td>\n",
       "      <td>1.0</td>\n",
       "      <td>...</td>\n",
       "      <td>1.0</td>\n",
       "      <td>2.0</td>\n",
       "      <td>5</td>\n",
       "      <td>1165.0</td>\n",
       "      <td>500</td>\n",
       "      <td>none</td>\n",
       "      <td>5</td>\n",
       "      <td>1</td>\n",
       "      <td>900</td>\n",
       "      <td>I'm not answering this.</td>\n",
       "    </tr>\n",
       "    <tr>\n",
       "      <th>3</th>\n",
       "      <td>3.2</td>\n",
       "      <td>1</td>\n",
       "      <td>1</td>\n",
       "      <td>430</td>\n",
       "      <td>3.0</td>\n",
       "      <td>420.0</td>\n",
       "      <td>2</td>\n",
       "      <td>Pizza, Mac and cheese, ice cream</td>\n",
       "      <td>Boredom</td>\n",
       "      <td>2.0</td>\n",
       "      <td>...</td>\n",
       "      <td>1.0</td>\n",
       "      <td>2.0</td>\n",
       "      <td>5</td>\n",
       "      <td>725.0</td>\n",
       "      <td>690</td>\n",
       "      <td>NaN</td>\n",
       "      <td>3</td>\n",
       "      <td>1</td>\n",
       "      <td>1315</td>\n",
       "      <td>Not sure, 240</td>\n",
       "    </tr>\n",
       "    <tr>\n",
       "      <th>4</th>\n",
       "      <td>3.5</td>\n",
       "      <td>1</td>\n",
       "      <td>1</td>\n",
       "      <td>720</td>\n",
       "      <td>2.0</td>\n",
       "      <td>420.0</td>\n",
       "      <td>2</td>\n",
       "      <td>Ice cream, chocolate, chips</td>\n",
       "      <td>Stress, boredom, cravings</td>\n",
       "      <td>1.0</td>\n",
       "      <td>...</td>\n",
       "      <td>1.0</td>\n",
       "      <td>1.0</td>\n",
       "      <td>4</td>\n",
       "      <td>940.0</td>\n",
       "      <td>500</td>\n",
       "      <td>Softball</td>\n",
       "      <td>4</td>\n",
       "      <td>2</td>\n",
       "      <td>760</td>\n",
       "      <td>190</td>\n",
       "    </tr>\n",
       "  </tbody>\n",
       "</table>\n",
       "<p>5 rows × 61 columns</p>\n",
       "</div>"
      ],
      "text/plain": [
       "     GPA  Gender  breakfast  calories_chicken  calories_day  calories_scone  \\\n",
       "0    2.4       2          1               430           NaN           315.0   \n",
       "1  3.654       1          1               610           3.0           420.0   \n",
       "2    3.3       1          1               720           4.0           420.0   \n",
       "3    3.2       1          1               430           3.0           420.0   \n",
       "4    3.5       1          1               720           2.0           420.0   \n",
       "\n",
       "   coffee                      comfort_food        comfort_food_reasons  \\\n",
       "0       1                              none       we dont have comfort    \n",
       "1       2       chocolate, chips, ice cream        Stress, bored, anger   \n",
       "2       2   frozen yogurt, pizza, fast food             stress, sadness   \n",
       "3       2  Pizza, Mac and cheese, ice cream                     Boredom   \n",
       "4       2      Ice cream, chocolate, chips   Stress, boredom, cravings    \n",
       "\n",
       "   comfort_food_reasons_coded            ...             soup  sports  \\\n",
       "0                         9.0            ...              1.0     1.0   \n",
       "1                         1.0            ...              1.0     1.0   \n",
       "2                         1.0            ...              1.0     2.0   \n",
       "3                         2.0            ...              1.0     2.0   \n",
       "4                         1.0            ...              1.0     1.0   \n",
       "\n",
       "   thai_food tortilla_calories  turkey_calories  type_sports veggies_day  \\\n",
       "0          1            1165.0              345   car racing           5   \n",
       "1          2             725.0              690  Basketball            4   \n",
       "2          5            1165.0              500         none           5   \n",
       "3          5             725.0              690          NaN           3   \n",
       "4          4             940.0              500     Softball           4   \n",
       "\n",
       "   vitamins  waffle_calories                    weight  \n",
       "0         1             1315                       187  \n",
       "1         2              900                       155  \n",
       "2         1              900  I'm not answering this.   \n",
       "3         1             1315             Not sure, 240  \n",
       "4         2              760                       190  \n",
       "\n",
       "[5 rows x 61 columns]"
      ]
     },
     "execution_count": 5,
     "metadata": {},
     "output_type": "execute_result"
    }
   ],
   "source": [
    "df.head()"
   ]
  },
  {
   "cell_type": "code",
   "execution_count": 6,
   "metadata": {
    "ExecuteTime": {
     "end_time": "2018-03-03T22:58:52.984546Z",
     "start_time": "2018-03-03T22:58:52.977669Z"
    }
   },
   "outputs": [],
   "source": [
    "df = df.iloc[:, [52, 41, 22, 20, 15, 2, 1, 7, 33, 60]]"
   ]
  },
  {
   "cell_type": "code",
   "execution_count": 7,
   "metadata": {
    "ExecuteTime": {
     "end_time": "2018-03-03T22:58:53.176728Z",
     "start_time": "2018-03-03T22:58:53.153905Z"
    },
    "scrolled": true
   },
   "outputs": [
    {
     "data": {
      "text/html": [
       "<div>\n",
       "<style scoped>\n",
       "    .dataframe tbody tr th:only-of-type {\n",
       "        vertical-align: middle;\n",
       "    }\n",
       "\n",
       "    .dataframe tbody tr th {\n",
       "        vertical-align: top;\n",
       "    }\n",
       "\n",
       "    .dataframe thead th {\n",
       "        text-align: right;\n",
       "    }\n",
       "</style>\n",
       "<table border=\"1\" class=\"dataframe\">\n",
       "  <thead>\n",
       "    <tr style=\"text-align: right;\">\n",
       "      <th></th>\n",
       "      <th>sports</th>\n",
       "      <th>marital_status</th>\n",
       "      <th>exercise</th>\n",
       "      <th>employment</th>\n",
       "      <th>drink</th>\n",
       "      <th>breakfast</th>\n",
       "      <th>Gender</th>\n",
       "      <th>comfort_food</th>\n",
       "      <th>healthy_feeling</th>\n",
       "      <th>weight</th>\n",
       "    </tr>\n",
       "  </thead>\n",
       "  <tbody>\n",
       "    <tr>\n",
       "      <th>0</th>\n",
       "      <td>1.0</td>\n",
       "      <td>1.0</td>\n",
       "      <td>1.0</td>\n",
       "      <td>3.0</td>\n",
       "      <td>1.0</td>\n",
       "      <td>1</td>\n",
       "      <td>2</td>\n",
       "      <td>none</td>\n",
       "      <td>2</td>\n",
       "      <td>187</td>\n",
       "    </tr>\n",
       "    <tr>\n",
       "      <th>1</th>\n",
       "      <td>1.0</td>\n",
       "      <td>2.0</td>\n",
       "      <td>1.0</td>\n",
       "      <td>2.0</td>\n",
       "      <td>2.0</td>\n",
       "      <td>1</td>\n",
       "      <td>1</td>\n",
       "      <td>chocolate, chips, ice cream</td>\n",
       "      <td>5</td>\n",
       "      <td>155</td>\n",
       "    </tr>\n",
       "    <tr>\n",
       "      <th>2</th>\n",
       "      <td>2.0</td>\n",
       "      <td>2.0</td>\n",
       "      <td>2.0</td>\n",
       "      <td>3.0</td>\n",
       "      <td>1.0</td>\n",
       "      <td>1</td>\n",
       "      <td>1</td>\n",
       "      <td>frozen yogurt, pizza, fast food</td>\n",
       "      <td>6</td>\n",
       "      <td>I'm not answering this.</td>\n",
       "    </tr>\n",
       "    <tr>\n",
       "      <th>3</th>\n",
       "      <td>2.0</td>\n",
       "      <td>2.0</td>\n",
       "      <td>3.0</td>\n",
       "      <td>3.0</td>\n",
       "      <td>2.0</td>\n",
       "      <td>1</td>\n",
       "      <td>1</td>\n",
       "      <td>Pizza, Mac and cheese, ice cream</td>\n",
       "      <td>7</td>\n",
       "      <td>Not sure, 240</td>\n",
       "    </tr>\n",
       "    <tr>\n",
       "      <th>4</th>\n",
       "      <td>1.0</td>\n",
       "      <td>1.0</td>\n",
       "      <td>1.0</td>\n",
       "      <td>2.0</td>\n",
       "      <td>2.0</td>\n",
       "      <td>1</td>\n",
       "      <td>1</td>\n",
       "      <td>Ice cream, chocolate, chips</td>\n",
       "      <td>6</td>\n",
       "      <td>190</td>\n",
       "    </tr>\n",
       "  </tbody>\n",
       "</table>\n",
       "</div>"
      ],
      "text/plain": [
       "   sports  marital_status  exercise  employment  drink  breakfast  Gender  \\\n",
       "0     1.0             1.0       1.0         3.0    1.0          1       2   \n",
       "1     1.0             2.0       1.0         2.0    2.0          1       1   \n",
       "2     2.0             2.0       2.0         3.0    1.0          1       1   \n",
       "3     2.0             2.0       3.0         3.0    2.0          1       1   \n",
       "4     1.0             1.0       1.0         2.0    2.0          1       1   \n",
       "\n",
       "                       comfort_food  healthy_feeling                    weight  \n",
       "0                              none                2                       187  \n",
       "1       chocolate, chips, ice cream                5                       155  \n",
       "2   frozen yogurt, pizza, fast food                6  I'm not answering this.   \n",
       "3  Pizza, Mac and cheese, ice cream                7             Not sure, 240  \n",
       "4      Ice cream, chocolate, chips                 6                       190  "
      ]
     },
     "execution_count": 7,
     "metadata": {},
     "output_type": "execute_result"
    }
   ],
   "source": [
    "df.head()"
   ]
  },
  {
   "cell_type": "code",
   "execution_count": 8,
   "metadata": {
    "ExecuteTime": {
     "end_time": "2018-03-03T22:58:53.496766Z",
     "start_time": "2018-03-03T22:58:53.430485Z"
    }
   },
   "outputs": [],
   "source": [
    "df.loc[:, \"is_active\"] = df.sports == 1\n",
    "df.loc[:, \"is_single\"] = df.marital_status == 1\n",
    "df.loc[:, \"is_sporty\"] = df.exercise == 1\n",
    "df.loc[:, \"is_employed\"] = (df.employment == 1) | (df.employment == 2)\n",
    "df.loc[:, \"is_healthy_eating\"] = (df.drink == 1) & (df.breakfast == 1)\n",
    "df.loc[:, \"gender\"] = df.Gender - 1\n",
    "df.loc[:, \"weight\"] = df.weight.fillna(0).apply(lambda x: int(int(*re.findall(\"[0-9]+\", str(x))) / 2.2))"
   ]
  },
  {
   "cell_type": "code",
   "execution_count": 9,
   "metadata": {
    "ExecuteTime": {
     "end_time": "2018-03-03T22:58:53.880532Z",
     "start_time": "2018-03-03T22:58:53.877136Z"
    }
   },
   "outputs": [],
   "source": [
    "cols = [\"is_sporty\", \"is_single\", \"is_active\", \"is_employed\", \"gender\", \"is_healthy_eating\", \"weight\", \"comfort_food\", \"healthy_feeling\"]\n"
   ]
  },
  {
   "cell_type": "code",
   "execution_count": 10,
   "metadata": {
    "ExecuteTime": {
     "end_time": "2018-03-03T22:58:54.375318Z",
     "start_time": "2018-03-03T22:58:54.368000Z"
    }
   },
   "outputs": [],
   "source": [
    "df = df[cols]"
   ]
  },
  {
   "cell_type": "code",
   "execution_count": 11,
   "metadata": {
    "ExecuteTime": {
     "end_time": "2018-03-03T22:58:54.901305Z",
     "start_time": "2018-03-03T22:58:54.898117Z"
    }
   },
   "outputs": [],
   "source": [
    "categories = set()"
   ]
  },
  {
   "cell_type": "code",
   "execution_count": 12,
   "metadata": {
    "ExecuteTime": {
     "end_time": "2018-03-03T22:58:55.455946Z",
     "start_time": "2018-03-03T22:58:55.448468Z"
    }
   },
   "outputs": [],
   "source": [
    "for _, row in df.comfort_food.iteritems():\n",
    "    try:\n",
    "        categories |= {a.lower().replace(\"and\", \"\").strip() for a in row.split(\",\")}\n",
    "    except:\n",
    "        pass"
   ]
  },
  {
   "cell_type": "code",
   "execution_count": 13,
   "metadata": {
    "ExecuteTime": {
     "end_time": "2018-03-03T22:58:56.228820Z",
     "start_time": "2018-03-03T22:58:56.219681Z"
    }
   },
   "outputs": [],
   "source": [
    "veg = [\"broccoli\", \"carrots\", \"cucumber\", \"fruit\", \"grapes\", \"watermelon\", \"rice\"]\n",
    "sport = [\"almonds\", \"cereal\", \"yogurt\", \"garlic\", \"omelet\", \"shake\"]\n",
    "ten_min = [\"burger\", \"wings\", \"chips\", \"popcorn\", \"nugg\", \"cookie\",\n",
    "          \"donut\", \"fast\", \"snacks\"]\n",
    "classic = [\"beef\", \"grilled\", \"lasagn\", \"potato\", \"meat\", \"noodle\", \"peanut\", \"pasta\", \"soup\", \"toast\",\n",
    "          \"burritos\", \"micro\", \"chocolate\"]\n",
    "premium = [\"curry\", \"chinese\", \"indian\", \"korean\", \"pizza\", \"spaghetti\", \"sushi\", \"wine\", \"truffles\"]\n",
    "holiday = [\"ice\", \"cake\", \"brownies\", \"macaro\", \"mozzarella\"]"
   ]
  },
  {
   "cell_type": "code",
   "execution_count": 14,
   "metadata": {
    "ExecuteTime": {
     "end_time": "2018-03-03T22:58:56.973617Z",
     "start_time": "2018-03-03T22:58:56.627331Z"
    }
   },
   "outputs": [],
   "source": [
    "for _, row in df.comfort_food.iteritems():\n",
    "    try:\n",
    "        user_input = [a.lower().replace(\"and\", \"\").strip() for a in row.split(\",\")]\n",
    "        result = [0 for _ in range(6)]\n",
    "        for i, cat_gr in enumerate([veg, sport, ten_min, classic, premium, holiday]):\n",
    "            for x in user_input:\n",
    "                for cat in cat_gr:\n",
    "                    if cat in x:\n",
    "                        result[i] = 1\n",
    "        for j in range(len(result)):\n",
    "            df.loc[_, f'target_{j}'] = result[j]\n",
    "    except:\n",
    "        for i in range(6):\n",
    "            df.loc[i, f'target_{i}'] = 0"
   ]
  },
  {
   "cell_type": "code",
   "execution_count": 15,
   "metadata": {
    "ExecuteTime": {
     "end_time": "2018-03-03T22:58:57.328582Z",
     "start_time": "2018-03-03T22:58:57.317491Z"
    }
   },
   "outputs": [],
   "source": [
    "X = df.loc[:, cols[:7]].astype(int)\n",
    "y = df.loc[:, [f'target_{i}' for i in range(6)]].fillna(0).astype(int)"
   ]
  },
  {
   "cell_type": "code",
   "execution_count": 16,
   "metadata": {
    "ExecuteTime": {
     "end_time": "2018-03-03T22:58:59.705543Z",
     "start_time": "2018-03-03T22:58:59.699072Z"
    }
   },
   "outputs": [
    {
     "data": {
      "text/plain": [
       "target_0    13\n",
       "target_1     8\n",
       "target_2    65\n",
       "target_3    60\n",
       "target_4    50\n",
       "target_5    66\n",
       "dtype: int64"
      ]
     },
     "execution_count": 16,
     "metadata": {},
     "output_type": "execute_result"
    }
   ],
   "source": [
    "y.sum()"
   ]
  },
  {
   "cell_type": "code",
   "execution_count": 17,
   "metadata": {
    "ExecuteTime": {
     "end_time": "2018-03-03T22:59:06.365061Z",
     "start_time": "2018-03-03T22:59:05.881032Z"
    }
   },
   "outputs": [],
   "source": [
    "from sklearn.model_selection import train_test_split, GridSearchCV\n",
    "from sklearn.multiclass import OneVsRestClassifier"
   ]
  },
  {
   "cell_type": "code",
   "execution_count": 18,
   "metadata": {
    "ExecuteTime": {
     "end_time": "2018-03-03T22:59:10.327670Z",
     "start_time": "2018-03-03T22:59:10.321261Z"
    }
   },
   "outputs": [],
   "source": [
    "X_train, X_test, y_train, y_test = train_test_split(X, y, test_size=0.3)"
   ]
  },
  {
   "cell_type": "markdown",
   "metadata": {
    "ExecuteTime": {
     "end_time": "2018-03-03T14:27:49.970274Z",
     "start_time": "2018-03-03T14:27:49.955862Z"
    }
   },
   "source": [
    "сильные фичи\n",
    "* 52 - спорт да(1) , нет (2, 99)\n",
    "* 41 - отношения один(1), остальное(2,3,4,5,6)\n",
    "* 22 - спорт да (1,2), нет (3,4,5)\n",
    "\n",
    "слабые фичи\n",
    "* 20 - работа занят(1,2), нет(3,4)\n",
    "* 15 - здоровое питание да(1), нет(2)\n",
    "* 3 - здоровый завтрак да(1), нет(2)\n",
    "* 2 - пол ж(1), м(2)\n",
    "\n",
    "таргет фичи\n",
    "* 8 - комфортная еда\n",
    "* 33 - ощущения здоровья от 1 очень здоров до 10 нездоров"
   ]
  },
  {
   "cell_type": "code",
   "execution_count": 603,
   "metadata": {
    "ExecuteTime": {
     "end_time": "2018-03-03T22:48:33.709683Z",
     "start_time": "2018-03-03T22:48:33.706102Z"
    }
   },
   "outputs": [],
   "source": [
    "import lightgbm as lgb"
   ]
  },
  {
   "cell_type": "code",
   "execution_count": 617,
   "metadata": {
    "ExecuteTime": {
     "end_time": "2018-03-03T22:55:45.952003Z",
     "start_time": "2018-03-03T22:54:47.884803Z"
    }
   },
   "outputs": [
    {
     "name": "stdout",
     "output_type": "stream",
     "text": [
      "Best parameters found by grid search are: {'estimator__learning_rate': 0.1, 'estimator__max_depth': 1, 'estimator__n_estimators': 20, 'estimator__subsample': 0.8}\n"
     ]
    }
   ],
   "source": [
    "# other scikit-learn modules\n",
    "estimator = OneVsRestClassifier(lgb.LGBMClassifier(num_leaves=31))\n",
    "\n",
    "param_grid = {\n",
    "    'estimator__max_depth': [1, 2, 3],\n",
    "    'estimator__subsample': np.arange(0.6, 1.2, 0.2),\n",
    "    'estimator__learning_rate': [0.01, 0.05, 0.1, 0.2],\n",
    "    'estimator__n_estimators': [10, 20, 40, 60]\n",
    "}\n",
    "\n",
    "gbm = GridSearchCV(estimator, param_grid)\n",
    "\n",
    "gbm.fit(X_train, y_train)\n",
    "\n",
    "print('Best parameters found by grid search are:', gbm.best_params_)"
   ]
  },
  {
   "cell_type": "code",
   "execution_count": 622,
   "metadata": {
    "ExecuteTime": {
     "end_time": "2018-03-03T22:58:28.912252Z",
     "start_time": "2018-03-03T22:58:28.906429Z"
    }
   },
   "outputs": [
    {
     "data": {
      "text/plain": [
       "OneVsRestClassifier(estimator=LGBMClassifier(boosting_type='gbdt', class_weight=None, colsample_bytree=1.0,\n",
       "        learning_rate=0.1, max_depth=1, min_child_samples=20,\n",
       "        min_child_weight=0.001, min_split_gain=0.0, n_estimators=20,\n",
       "        n_jobs=-1, num_leaves=31, objective=None, random_state=None,\n",
       "        reg_alpha=0.0, reg_lambda=0.0, silent=True, subsample=0.8,\n",
       "        subsample_for_bin=200000, subsample_freq=1),\n",
       "          n_jobs=1)"
      ]
     },
     "execution_count": 622,
     "metadata": {},
     "output_type": "execute_result"
    }
   ],
   "source": [
    "gbm.best_estimator_"
   ]
  },
  {
   "cell_type": "code",
   "execution_count": 623,
   "metadata": {
    "ExecuteTime": {
     "end_time": "2018-03-03T22:58:39.722635Z",
     "start_time": "2018-03-03T22:58:39.696436Z"
    }
   },
   "outputs": [
    {
     "data": {
      "text/plain": [
       "['gbm.pkl']"
      ]
     },
     "execution_count": 623,
     "metadata": {},
     "output_type": "execute_result"
    }
   ],
   "source": [
    "from sklearn.externals import joblib\n",
    "joblib.dump(gbm.best_estimator_, 'gbm.pkl') "
   ]
  },
  {
   "cell_type": "code",
   "execution_count": 20,
   "metadata": {
    "ExecuteTime": {
     "end_time": "2018-03-03T22:59:31.632224Z",
     "start_time": "2018-03-03T22:59:31.606839Z"
    }
   },
   "outputs": [],
   "source": [
    "gbm = joblib.load(\"gbm.pkl\")"
   ]
  },
  {
   "cell_type": "code",
   "execution_count": 26,
   "metadata": {
    "ExecuteTime": {
     "end_time": "2018-03-03T23:01:46.816665Z",
     "start_time": "2018-03-03T23:01:46.810601Z"
    }
   },
   "outputs": [
    {
     "data": {
      "text/plain": [
       "{'boosting_type': 'gbdt',\n",
       " 'class_weight': None,\n",
       " 'colsample_bytree': 1.0,\n",
       " 'learning_rate': 0.1,\n",
       " 'max_depth': 1,\n",
       " 'min_child_samples': 20,\n",
       " 'min_child_weight': 0.001,\n",
       " 'min_split_gain': 0.0,\n",
       " 'n_estimators': 20,\n",
       " 'n_jobs': -1,\n",
       " 'num_leaves': 31,\n",
       " 'objective': None,\n",
       " 'random_state': None,\n",
       " 'reg_alpha': 0.0,\n",
       " 'reg_lambda': 0.0,\n",
       " 'silent': True,\n",
       " 'subsample': 0.8,\n",
       " 'subsample_for_bin': 200000,\n",
       " 'subsample_freq': 1}"
      ]
     },
     "execution_count": 26,
     "metadata": {},
     "output_type": "execute_result"
    }
   ],
   "source": [
    "gbm.estimator.get_params()"
   ]
  },
  {
   "cell_type": "code",
   "execution_count": null,
   "metadata": {},
   "outputs": [],
   "source": []
  }
 ],
 "metadata": {
  "kernelspec": {
   "display_name": "Python 3",
   "language": "python",
   "name": "python3"
  },
  "varInspector": {
   "cols": {
    "lenName": 16,
    "lenType": 16,
    "lenVar": 40
   },
   "kernels_config": {
    "python": {
     "delete_cmd_postfix": "",
     "delete_cmd_prefix": "del ",
     "library": "var_list.py",
     "varRefreshCmd": "print(var_dic_list())"
    },
    "r": {
     "delete_cmd_postfix": ") ",
     "delete_cmd_prefix": "rm(",
     "library": "var_list.r",
     "varRefreshCmd": "cat(var_dic_list()) "
    }
   },
   "types_to_exclude": [
    "module",
    "function",
    "builtin_function_or_method",
    "instance",
    "_Feature"
   ],
   "window_display": false
  }
 },
 "nbformat": 4,
 "nbformat_minor": 2
}
